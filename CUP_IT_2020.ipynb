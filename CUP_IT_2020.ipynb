{
 "cells": [
  {
   "cell_type": "code",
   "execution_count": 1,
   "metadata": {
    "colab": {},
    "colab_type": "code",
    "id": "K5VQHbRmRbvK"
   },
   "outputs": [],
   "source": [
    "import pandas as pd\n",
    "import numpy as np\n",
    "\n",
    "from sklearn.model_selection import train_test_split\n",
    "from sklearn.feature_selection import f_regression\n",
    "from sklearn.ensemble import RandomForestRegressor\n",
    "from sklearn.linear_model import Ridge\n",
    "\n",
    "from sklearn.metrics import mean_squared_error\n",
    "\n",
    "%matplotlib inline\n",
    "\n",
    "# отключим всякие предупреждения Anaconda\n",
    "import warnings\n",
    "warnings.filterwarnings('ignore')"
   ]
  },
  {
   "cell_type": "markdown",
   "metadata": {
    "colab_type": "text",
    "id": "NOnTYPCUDX5n"
   },
   "source": [
    "**ПОДГОТОВКА ДАННЫХ**"
   ]
  },
  {
   "cell_type": "code",
   "execution_count": 2,
   "metadata": {
    "colab": {},
    "colab_type": "code",
    "id": "MZrYSpfQC6P0"
   },
   "outputs": [],
   "source": [
    "# # Сортируем по дате и id-клиента\n",
    "# train=pd.read_csv('/content/drive/My Drive/Data CupIT/CUP_IT_train_data.csv')\n",
    "# train['id_data']=train['cif_id'].astype(str)+'_'+train['dlk_cob_date']\n",
    "# train=train.sort_values('id_data')"
   ]
  },
  {
   "cell_type": "markdown",
   "metadata": {
    "colab_type": "text",
    "id": "ohTHsQwTetVR"
   },
   "source": [
    "Работаем с пропусками в данных"
   ]
  },
  {
   "cell_type": "code",
   "execution_count": 3,
   "metadata": {
    "colab": {
     "base_uri": "https://localhost:8080/",
     "height": 50
    },
    "colab_type": "code",
    "id": "QOGN5NcpC7wu",
    "outputId": "4b039870-d404-4b18-d377-367cf86e050d"
   },
   "outputs": [],
   "source": [
    "# miss_dict={}\n",
    "# for column_name in train.columns:\n",
    "#     miss_dict[column_name] = train[column_name].isnull().sum()\n",
    "# miss_list_for_del=[]\n",
    "# miss_list_for_update=[]\n",
    "# for key in miss_dict:\n",
    "#     if miss_dict[key]>=0.5*train.shape[0]:\n",
    "#         miss_list_for_del.append(key)\n",
    "#     elif miss_dict[key] != 0:\n",
    "#         miss_list_for_update.append(key)\n",
    "# # print(miss_list_for_del)\n",
    "# # print(miss_list_for_update)\n",
    "# print('List features for delete: ', miss_list_for_del) # список на удаление - слишком много пропусков\n",
    "# print('List features for update: ', miss_list_for_update) # список на обновление - восстановить пропуски"
   ]
  },
  {
   "cell_type": "markdown",
   "metadata": {
    "colab_type": "text",
    "id": "u1UI19DwezOu"
   },
   "source": [
    "Удаляем данные с числом пропусков более 50%"
   ]
  },
  {
   "cell_type": "code",
   "execution_count": 4,
   "metadata": {
    "colab": {},
    "colab_type": "code",
    "id": "wDEOQu3kC7sT"
   },
   "outputs": [],
   "source": [
    "# train=train.drop(miss_list_for_del, axis=1)"
   ]
  },
  {
   "cell_type": "markdown",
   "metadata": {
    "colab_type": "text",
    "id": "fLHoa37Be6eE"
   },
   "source": [
    "Признаки с небольшим количеством пропусков заполняем в категориальных признаках Unknown, в количественном - медианой"
   ]
  },
  {
   "cell_type": "code",
   "execution_count": 5,
   "metadata": {
    "colab": {},
    "colab_type": "code",
    "id": "giUIKUPrC7m8"
   },
   "outputs": [],
   "source": [
    "# train['cu_education_level']=train['cu_education_level'].fillna('Unknown')\n",
    "# train['cu_empl_area']=train['cu_empl_area'].fillna('Unknown')\n",
    "# train['cu_empl_level']=train['cu_empl_level'].fillna('Unknown')\n",
    "# train['ca_volume']=train['ca_volume'].fillna(train['ca_volume'].median())"
   ]
  },
  {
   "cell_type": "markdown",
   "metadata": {
    "colab_type": "text",
    "id": "tqScWEgxfT_I"
   },
   "source": [
    "**РАБОТА С КАТЕГОРИАЛЬНЫМИ ПРИЗНАКАМИ**"
   ]
  },
  {
   "cell_type": "code",
   "execution_count": 6,
   "metadata": {
    "colab": {
     "base_uri": "https://localhost:8080/",
     "height": 33
    },
    "colab_type": "code",
    "id": "1Bs6sVH_C7hY",
    "outputId": "59c57624-12f9-4ac4-95d0-7825d9b6ee63"
   },
   "outputs": [],
   "source": [
    "# # Получение списка категориальных переменных\n",
    "# s = (train.dtypes == 'object')\n",
    "# object_cols = list(s[s].index)\n",
    "# print((object_cols))"
   ]
  },
  {
   "cell_type": "code",
   "execution_count": 7,
   "metadata": {
    "colab": {},
    "colab_type": "code",
    "id": "zwwIwYjrDl6c"
   },
   "outputs": [],
   "source": [
    "# train['big_city']=train['big_city'].astype('category')\n",
    "# train['cu_education_level']=train['cu_education_level'].astype('category')\n",
    "# train['cu_empl_level']=train['cu_empl_level'].astype('category')"
   ]
  },
  {
   "cell_type": "markdown",
   "metadata": {
    "colab_type": "text",
    "id": "R_VsELPfDjyE"
   },
   "source": [
    "**ОБРАБОТКА КАТЕГОРИАЛЬНЫХ ПРИЗНАКОВ - OHE HOT ENCODING**"
   ]
  },
  {
   "cell_type": "code",
   "execution_count": 8,
   "metadata": {
    "colab": {},
    "colab_type": "code",
    "id": "yjhdE4tiDxVd"
   },
   "outputs": [],
   "source": [
    "# from sklearn.preprocessing import OneHotEncoder\n",
    "# list_for_ohe=['big_city', 'cu_education_level']\n",
    "# # Применим OHE к каждой колонке с категориальными данными\n",
    "# OH_encoder = OneHotEncoder(handle_unknown='ignore', sparse=False)\n",
    "# OH_cols_train = pd.DataFrame(OH_encoder.fit_transform(train[list_for_ohe]))\n",
    "\n",
    "# # One-hot encoding удаляет индекс; восстановим его\n",
    "# OH_cols_train.index = train.index\n",
    "\n",
    "# # Удалим категориальные признаки, заменив их на перекодированные\n",
    "# num_X = train.drop(list_for_ohe, axis=1)\n",
    "\n",
    "# # Add one-hot encoded columns to numerical features\n",
    "# OH_X = pd.concat([num_X, OH_cols_train], axis=1)"
   ]
  },
  {
   "cell_type": "code",
   "execution_count": 9,
   "metadata": {
    "colab": {},
    "colab_type": "code",
    "id": "UsyA9IvnDyHd"
   },
   "outputs": [],
   "source": [
    "# OH_X=OH_X.rename(columns={0:'big_city_OTH', 1:'big_city_SPB', 2:'big_city_MLN', 3:'big_city_MSK',\n",
    "#                           4: 'cu_education_level_3',5: 'cu_education_level_2',6: 'cu_education_level_4',7: 'cu_education_level_1', 8: 'cu_education_level_Unknown'})"
   ]
  },
  {
   "cell_type": "code",
   "execution_count": 10,
   "metadata": {
    "colab": {},
    "colab_type": "code",
    "id": "n4cjqMZXD3V3"
   },
   "outputs": [],
   "source": [
    "# traindf=OH_X.drop(columns=['id_data'], axis=1)"
   ]
  },
  {
   "cell_type": "markdown",
   "metadata": {
    "colab_type": "text",
    "id": "QVIpJtblETzb"
   },
   "source": [
    "**MEAN TARGET**"
   ]
  },
  {
   "cell_type": "markdown",
   "metadata": {
    "colab_type": "text",
    "id": "tuvg0N2dEGPq"
   },
   "source": [
    "Применим MEAN TARGET подход для перекодировки категориальных признаков с большим числом вариаций признака"
   ]
  },
  {
   "cell_type": "code",
   "execution_count": 11,
   "metadata": {
    "colab": {},
    "colab_type": "code",
    "id": "gBdq2UHCD3yy"
   },
   "outputs": [],
   "source": [
    "# cu_empl_lev_meantarget={}\n",
    "# for level in train['cu_empl_level'].unique():\n",
    "#   cu_empl_lev_meantarget[level]=traindf[traindf['cu_empl_level']==level]['gi_smooth_3m'].mean()\n",
    "# traindf['cu_empl_level']=traindf['cu_empl_level'].map(lambda x: cu_empl_lev_meantarget[x])\n",
    "# traindf=traindf.rename(columns={'cu_empl_level':'cu_empl_level_mean_target'})"
   ]
  },
  {
   "cell_type": "code",
   "execution_count": 12,
   "metadata": {
    "colab": {},
    "colab_type": "code",
    "id": "7-mqDfLPD3-M"
   },
   "outputs": [],
   "source": [
    "# cu_empl_area_meantarget={}\n",
    "# for area in train['cu_empl_area'].unique():\n",
    "#   cu_empl_area_meantarget[area]=traindf[traindf['cu_empl_area']==area]['gi_smooth_3m'].mean()"
   ]
  },
  {
   "cell_type": "code",
   "execution_count": 13,
   "metadata": {
    "colab": {},
    "colab_type": "code",
    "id": "V2inrYayEfrb"
   },
   "outputs": [],
   "source": [
    "# traindf['cu_empl_area']=traindf['cu_empl_area'].map(lambda x: cu_empl_area_meantarget[x])\n",
    "# traindf=traindf.rename(columns={'cu_empl_area':'cu_empl_area_mean_target'})"
   ]
  },
  {
   "cell_type": "code",
   "execution_count": 14,
   "metadata": {
    "colab": {},
    "colab_type": "code",
    "id": "lbv9W5h1ElOr"
   },
   "outputs": [],
   "source": [
    "# traindf['cu_empl_level_mean_target']=traindf['cu_empl_level_mean_target'].astype('float64')"
   ]
  },
  {
   "cell_type": "markdown",
   "metadata": {
    "colab_type": "text",
    "id": "7PQYn0Q8hFvT"
   },
   "source": [
    "**ГОТОВИМ ЦЕЛЕВУЮ ПЕРЕМЕННУЮ**"
   ]
  },
  {
   "cell_type": "code",
   "execution_count": 15,
   "metadata": {
    "colab": {},
    "colab_type": "code",
    "id": "9fpXEol5R7ho"
   },
   "outputs": [],
   "source": [
    "# train=traindf\n",
    "# # train=pd.read_csv('/content/drive/My Drive/Data CupIT/dataset.csv')"
   ]
  },
  {
   "cell_type": "code",
   "execution_count": 16,
   "metadata": {
    "colab": {},
    "colab_type": "code",
    "id": "sOHvVR9WAvna"
   },
   "outputs": [],
   "source": [
    "# # делаем сдвиг по каждому из пользователей\n",
    "# train['target_gi_1m']=train.groupby(['cif_id'])['gi_smooth_3m'].shift(-6)\n",
    "# train['target_gi_2m']=train.groupby(['cif_id'])['gi_smooth_3m'].shift(-7)\n",
    "# train['target_gi_3m']=train.groupby(['cif_id'])['gi_smooth_3m'].shift(-8)\n",
    "# train['target_gi_4m']=train.groupby(['cif_id'])['gi_smooth_3m'].shift(-9)\n",
    "# train['target_gi_5m']=train.groupby(['cif_id'])['gi_smooth_3m'].shift(-10)\n",
    "# train['target_gi_6m']=train.groupby(['cif_id'])['gi_smooth_3m'].shift(-11)"
   ]
  },
  {
   "cell_type": "markdown",
   "metadata": {
    "colab_type": "text",
    "id": "3eTq7FlehoYh"
   },
   "source": [
    "СОКРАТИМ ДАТАСЕТ в 4 раза"
   ]
  },
  {
   "cell_type": "code",
   "execution_count": 17,
   "metadata": {
    "colab": {},
    "colab_type": "code",
    "id": "1JN52mBxCsEw"
   },
   "outputs": [],
   "source": [
    "# clients=train['cif_id'].unique()"
   ]
  },
  {
   "cell_type": "code",
   "execution_count": 18,
   "metadata": {
    "colab": {},
    "colab_type": "code",
    "id": "S7LdI_X3vQDp"
   },
   "outputs": [],
   "source": [
    "# client_list=[]\n",
    "# k=0\n",
    "# for client in clients:\n",
    "#   if k % 4 == 0:\n",
    "#     client_list.append(client)\n",
    "#   k += 1"
   ]
  },
  {
   "cell_type": "markdown",
   "metadata": {
    "colab_type": "text",
    "id": "I9epT6hXinME"
   },
   "source": [
    "ОТБЕРЕМ ДАННЫЕ ДЛЯ КАЖДОГО КЛИЕНТА ЗА ПЕРВЫЕ 6 МЕСЯЦЕВ и \"ПРОТЯНЕМ\" ЦЕЛЕВУЮ ПЕРЕМЕННУЮ НА ВСЕ СТРОКИ ПО КЛИЕНТУ"
   ]
  },
  {
   "cell_type": "code",
   "execution_count": 19,
   "metadata": {
    "colab": {},
    "colab_type": "code",
    "id": "yJuNmIkcGsQc"
   },
   "outputs": [],
   "source": [
    "# fulldata=pd.DataFrame()\n",
    "# for client in client_list:\n",
    "#   subset=train[train['cif_id']==client].iloc[:6, :]\n",
    "#   for i in range(1, len(subset)):\n",
    "#     subset.iloc[i, [46,47,48,49,50,51]]=subset.iloc[0, [46,47,48,49,50,51]]\n",
    "#   fulldata=pd.concat([fulldata, subset])"
   ]
  },
  {
   "cell_type": "markdown",
   "metadata": {
    "colab_type": "text",
    "id": "0zFX1FaRibEu"
   },
   "source": [
    "СОЗДАДИМ ЦЕЛЕВУЮ ПЕРЕМЕННУЮ"
   ]
  },
  {
   "cell_type": "code",
   "execution_count": 20,
   "metadata": {
    "colab": {},
    "colab_type": "code",
    "id": "jba3QqkPsvHp"
   },
   "outputs": [],
   "source": [
    "# fulldata['CLTV']=fulldata['target_gi_1m']+fulldata['target_gi_2m']+fulldata['target_gi_3m']+fulldata['target_gi_4m']+fulldata['target_gi_5m']+fulldata['target_gi_6m']\n",
    "# fulldata=fulldata.dropna()"
   ]
  },
  {
   "cell_type": "code",
   "execution_count": 21,
   "metadata": {
    "colab": {},
    "colab_type": "code",
    "id": "cg_EfBgESGQU"
   },
   "outputs": [],
   "source": [
    "# X=fulldata.drop(columns=['cif_id','dlk_cob_date','target_gi_1m', 'target_gi_2m', 'target_gi_3m', 'target_gi_4m', 'target_gi_5m', 'target_gi_6m', 'CLTV'])\n",
    "# y=fulldata['CLTV']"
   ]
  },
  {
   "cell_type": "markdown",
   "metadata": {
    "colab_type": "text",
    "id": "-2BvfPoaS3cH"
   },
   "source": [
    "**ОТБОР ПРИЗНАКОВ**\n"
   ]
  },
  {
   "cell_type": "code",
   "execution_count": 22,
   "metadata": {
    "colab": {},
    "colab_type": "code",
    "id": "Oi7kX10DSh1e"
   },
   "outputs": [],
   "source": [
    "# feature_names = np.array(X.columns)\n",
    "# feature_scores = pd.DataFrame(index=feature_names)"
   ]
  },
  {
   "cell_type": "code",
   "execution_count": 23,
   "metadata": {
    "colab": {},
    "colab_type": "code",
    "id": "uHUit4xUSm5q"
   },
   "outputs": [],
   "source": [
    "# method_name = 'Random Forest'\n",
    "# random_forest = RandomForestRegressor(n_estimators=100, max_depth=5, random_state=0)\n",
    "# random_forest.fit(X, y)\n",
    "\n",
    "# feature_scores[method_name] = random_forest.feature_importances_.reshape(-1, 1)\n",
    "# feature_scores[method_name] /= feature_scores[method_name].max()"
   ]
  },
  {
   "cell_type": "code",
   "execution_count": 24,
   "metadata": {
    "colab": {},
    "colab_type": "code",
    "id": "dIOcOvUJSoEo"
   },
   "outputs": [],
   "source": [
    "# feature_scores['F test'], _ = f_regression(X, y)\n",
    "# feature_scores['F test'] /= feature_scores['F test'].max()"
   ]
  },
  {
   "cell_type": "code",
   "execution_count": 25,
   "metadata": {
    "colab": {},
    "colab_type": "code",
    "id": "GhgcFHxkStup"
   },
   "outputs": [],
   "source": [
    "# method_name = 'Ridge'\n",
    "# ridge = Ridge(normalize=True).fit(X, y)\n",
    "# feature_scores[method_name] = np.abs(ridge.coef_).reshape(-1, 1)\n",
    "# feature_scores[method_name] /= feature_scores[method_name].max()"
   ]
  },
  {
   "cell_type": "code",
   "execution_count": 26,
   "metadata": {
    "colab": {
     "base_uri": "https://localhost:8080/",
     "height": 823
    },
    "colab_type": "code",
    "id": "i5MQeNUVSvfw",
    "outputId": "f8fa3313-4479-4ae6-816d-a418f15d235b"
   },
   "outputs": [],
   "source": [
    "# feature_scores['average_all_models']=(feature_scores['F test']+feature_scores['Ridge'])/2\n",
    "# feature_scores=feature_scores.drop(columns=['Random Forest'], axis=1)\n",
    "# feature_scores=feature_scores.sort_values('average_all_models', ascending=False)\n",
    "# feature_scores.round(2).style.background_gradient(cmap='Reds', high=1.01)"
   ]
  },
  {
   "cell_type": "markdown",
   "metadata": {
    "colab_type": "text",
    "id": "Pu0lU9Bsjdyl"
   },
   "source": [
    "ОТБЕРЕМ ПРИЗНАКИ, Имеющие показатель average_all_models свыше 0.03"
   ]
  },
  {
   "cell_type": "code",
   "execution_count": 27,
   "metadata": {
    "colab": {},
    "colab_type": "code",
    "id": "k3WUPbl1V1f7"
   },
   "outputs": [],
   "source": [
    "features_select=['gi_smooth_3m','cur_quantity_mort', 'cur_quantity_pl', 'cur_quantity_cc', 'cc_cash_spend_c', 'active', 'cu_education_level_1',  'big_city_SPB', 'cur_quantity_mf', \n",
    "                 'big_city_MLN', 'standalone_nonpayroll_dc_f', 'cu_education_level_Unknown','standalone_dc_f', 'cu_education_level_3', 'big_city_OTH', 'cur_quantity_dc', \n",
    "                 'big_city_OTH', 'cu_education_level_2', 'big_city_MSK', 'ca_f', 'cur_quantity_deposits']"
   ]
  },
  {
   "cell_type": "code",
   "execution_count": 28,
   "metadata": {
    "colab": {},
    "colab_type": "code",
    "id": "1JJ24mLLWp-M"
   },
   "outputs": [],
   "source": [
    "# X_train=X[features_select]"
   ]
  },
  {
   "cell_type": "markdown",
   "metadata": {
    "colab_type": "text",
    "id": "hNs9YRMSW6Z8"
   },
   "source": [
    "Разбиение данных на train и test\n"
   ]
  },
  {
   "cell_type": "code",
   "execution_count": 29,
   "metadata": {
    "colab": {},
    "colab_type": "code",
    "id": "g_L-bBjWW0yS"
   },
   "outputs": [],
   "source": [
    "# X_train, X_valid, y_train, y_valid = train_test_split(X_train, y, test_size=0.3, random_state=1)"
   ]
  },
  {
   "cell_type": "markdown",
   "metadata": {
    "colab_type": "text",
    "id": "-Ezy1u6o4g6L"
   },
   "source": [
    "**ОБУЧАЕМ МОДЕЛИ**"
   ]
  },
  {
   "cell_type": "code",
   "execution_count": 31,
   "metadata": {
    "colab": {},
    "colab_type": "code",
    "id": "cbL1zI09XPve"
   },
   "outputs": [],
   "source": [
    "# from sklearn.linear_model import LinearRegression\n",
    "# model1=LinearRegression(n_jobs=-1)\n",
    "# model1.fit(X_train, y_train)\n",
    "# preds1=model1.predict(X_valid)"
   ]
  },
  {
   "cell_type": "code",
   "execution_count": 32,
   "metadata": {
    "colab": {},
    "colab_type": "code",
    "id": "6Ut9jjuHYxi_"
   },
   "outputs": [],
   "source": [
    "# from sklearn.linear_model import Ridge\n",
    "# model2=Ridge()\n",
    "# model2.fit(X_train, y_train)\n",
    "# preds2=model2.predict(X_valid)"
   ]
  },
  {
   "cell_type": "code",
   "execution_count": 33,
   "metadata": {
    "colab": {},
    "colab_type": "code",
    "id": "Dt3j4_wCZQg_"
   },
   "outputs": [],
   "source": [
    "# from sklearn.neighbors import KNeighborsRegressor\n",
    "# model3=KNeighborsRegressor()\n",
    "# model3.fit(X_train, y_train)\n",
    "# preds3=model3.predict(X_valid)"
   ]
  },
  {
   "cell_type": "code",
   "execution_count": 34,
   "metadata": {
    "colab": {},
    "colab_type": "code",
    "id": "JuKerFWiZ8Md"
   },
   "outputs": [],
   "source": [
    "# model4= RandomForestRegressor(n_estimators=500, max_depth=7, random_state=0, n_jobs=-1)\n",
    "# model4.fit(X_train, y_train)\n",
    "# preds4=model4.predict(X_valid)"
   ]
  },
  {
   "cell_type": "code",
   "execution_count": 35,
   "metadata": {
    "colab": {},
    "colab_type": "code",
    "id": "hNajeHF1UiHu"
   },
   "outputs": [],
   "source": [
    "# from sklearn.tree import DecisionTreeRegressor\n",
    "# model5=DecisionTreeRegressor(max_depth=7)\n",
    "# model5.fit(X_train, y_train)\n",
    "# preds5=model5.predict(X_valid)"
   ]
  },
  {
   "cell_type": "code",
   "execution_count": 36,
   "metadata": {
    "colab": {},
    "colab_type": "code",
    "id": "xx15OC8dbNO4"
   },
   "outputs": [],
   "source": [
    "# from sklearn.linear_model import SGDRegressor\n",
    "# model6=SGDRegressor()\n",
    "# model6.fit(X_train, y_train)\n",
    "# preds6=model6.predict(X_valid)"
   ]
  },
  {
   "cell_type": "markdown",
   "metadata": {
    "colab_type": "text",
    "id": "O4jL0wPV4ffN"
   },
   "source": [
    "**МЕТРИКА КАЧЕСТВА**"
   ]
  },
  {
   "cell_type": "code",
   "execution_count": 37,
   "metadata": {
    "colab": {},
    "colab_type": "code",
    "id": "4_0mHor3XeGW"
   },
   "outputs": [],
   "source": [
    "# import numpy as np\n",
    "\n",
    "# def mean_absolute_percentage_error(y_true, y_pred): \n",
    "#     y_true, y_pred = np.array(y_true), np.array(y_pred)\n",
    "#     return np.mean(np.abs((y_true - y_pred) / y_true)) * 100"
   ]
  },
  {
   "cell_type": "code",
   "execution_count": 38,
   "metadata": {
    "colab": {},
    "colab_type": "code",
    "id": "XKgqF8lrYABE"
   },
   "outputs": [],
   "source": [
    "# MAPE1=mean_absolute_percentage_error(preds1, y_valid)\n",
    "# MAPE2=mean_absolute_percentage_error(preds2, y_valid)\n",
    "# MAPE3=mean_absolute_percentage_error(preds3, y_valid)\n",
    "# MAPE4=mean_absolute_percentage_error(preds4, y_valid)\n",
    "# MAPE5=mean_absolute_percentage_error(preds5, y_valid)\n",
    "# MAPE6=mean_absolute_percentage_error(preds6, y_valid)\n",
    "# print('MAPE for LR: ', MAPE1)\n",
    "# print('MAPE for Ridge: ', MAPE2)\n",
    "# print('MAPE for KNN: ', MAPE3)\n",
    "# print('MAPE for RF: ', MAPE4)\n",
    "# print('MAPE for DTR: ', MAPE5)\n",
    "# print('MAPE for SGD: ', MAPE6)"
   ]
  },
  {
   "cell_type": "markdown",
   "metadata": {
    "colab_type": "text",
    "id": "9yL4ZBGN5bCI"
   },
   "source": [
    "Дополнительная метрика качества - MAE"
   ]
  },
  {
   "cell_type": "code",
   "execution_count": 39,
   "metadata": {
    "colab": {},
    "colab_type": "code",
    "id": "83XBrbREaVRO"
   },
   "outputs": [],
   "source": [
    "# MAE1=mean_squared_error(y_valid, preds1)\n",
    "# MAE2=mean_squared_error(y_valid, preds2)\n",
    "# MAE3=mean_squared_error(y_valid, preds3)\n",
    "# MAE4=mean_squared_error(y_valid, preds4)\n",
    "# MAE5=mean_squared_error(y_valid, preds5)\n",
    "# MAE6=mean_squared_error(y_valid, preds6)\n",
    "# print('MAE for LR: ', MAE1)\n",
    "# print('MAE for Ridge: ', MAE2)\n",
    "# print('MAE for KNN: ', MAE3)\n",
    "# print('MAE for RF: ', MAE4)\n",
    "# print('MAE for DTR: ', MAE5)\n",
    "# print('MAE for SGD: ', MAE6)"
   ]
  },
  {
   "cell_type": "markdown",
   "metadata": {
    "colab_type": "text",
    "id": "NCcqGq4YjwBx"
   },
   "source": [
    "ПО МЕТРИКАМ КАЧЕСТВА ЛУЧШАЯ МОДЕЛЬ - RandomForestRegressor.\n",
    "Сохраним ее для будущих предсказаний."
   ]
  },
  {
   "cell_type": "code",
   "execution_count": 40,
   "metadata": {
    "colab": {
     "base_uri": "https://localhost:8080/",
     "height": 33
    },
    "colab_type": "code",
    "id": "jewpAOIBbAVy",
    "outputId": "ef86d287-3e5c-4be9-a839-a9782dee88fd"
   },
   "outputs": [],
   "source": [
    "import joblib\n",
    "filename = 'finalized_model.sav'\n",
    "# joblib.dump(model4, filename)"
   ]
  },
  {
   "cell_type": "markdown",
   "metadata": {
    "colab_type": "text",
    "id": "_dyRLRdc635T"
   },
   "source": [
    "**ПРЕДСКАЗАНИЕ МОДЕЛИ**"
   ]
  },
  {
   "cell_type": "code",
   "execution_count": 41,
   "metadata": {
    "colab": {},
    "colab_type": "code",
    "id": "Lwj1n4kC7AQD"
   },
   "outputs": [],
   "source": [
    "test=pd.read_csv('CUP_IT_test_data.csv')"
   ]
  },
  {
   "cell_type": "markdown",
   "metadata": {
    "colab_type": "text",
    "id": "-gOeNbhI7ogi"
   },
   "source": [
    "**Сортируем данные по датам**"
   ]
  },
  {
   "cell_type": "code",
   "execution_count": 42,
   "metadata": {
    "colab": {},
    "colab_type": "code",
    "id": "CgTFUjii7RsD"
   },
   "outputs": [],
   "source": [
    "test['id_data']=test['cif_id'].astype(str)+'_'+test['dlk_cob_date']\n",
    "test=test.sort_values('id_data')"
   ]
  },
  {
   "cell_type": "markdown",
   "metadata": {
    "colab_type": "text",
    "id": "xd4bC0Ec7vIB"
   },
   "source": [
    "Удаляем пропуски"
   ]
  },
  {
   "cell_type": "code",
   "execution_count": 43,
   "metadata": {
    "colab": {},
    "colab_type": "code",
    "id": "57Oa5PZe7aAa"
   },
   "outputs": [],
   "source": [
    "miss_list_for_del=['cc_balance', 'cl_balance', 'ml_balance', 'pl_balance', 'td_volume', 'sa_volume', 'mf_volume']\n",
    "test=test.drop(miss_list_for_del, axis=1)"
   ]
  },
  {
   "cell_type": "markdown",
   "metadata": {
    "colab_type": "text",
    "id": "MYGvudG577xm"
   },
   "source": [
    "Заменяем пропуски"
   ]
  },
  {
   "cell_type": "code",
   "execution_count": 44,
   "metadata": {
    "colab": {},
    "colab_type": "code",
    "id": "JeSFJJAF72YN"
   },
   "outputs": [],
   "source": [
    "test['cu_education_level']=test['cu_education_level'].fillna('Unknown')\n",
    "test['cu_empl_area']=test['cu_empl_area'].fillna('Unknown')\n",
    "test['cu_empl_level']=test['cu_empl_level'].fillna('Unknown')\n",
    "test['ca_volume']=test['ca_volume'].fillna(test['ca_volume'].median()) "
   ]
  },
  {
   "cell_type": "markdown",
   "metadata": {
    "colab_type": "text",
    "id": "g15gcIrN8Hrb"
   },
   "source": [
    "Обработка категориальных переменных"
   ]
  },
  {
   "cell_type": "code",
   "execution_count": 45,
   "metadata": {
    "colab": {
     "base_uri": "https://localhost:8080/",
     "height": 33
    },
    "colab_type": "code",
    "id": "b7K7uQ208G8B",
    "outputId": "c7b87d67-83b3-46e9-e43f-d2635e5237b7"
   },
   "outputs": [
    {
     "name": "stdout",
     "output_type": "stream",
     "text": [
      "['dlk_cob_date', 'big_city', 'cu_education_level', 'cu_empl_area', 'cu_empl_level', 'id_data']\n"
     ]
    }
   ],
   "source": [
    "# Получение списка категориальных переменных\n",
    "s = (test.dtypes == 'object')\n",
    "object_cols = list(s[s].index)\n",
    "print((object_cols))"
   ]
  },
  {
   "cell_type": "code",
   "execution_count": 46,
   "metadata": {
    "colab": {},
    "colab_type": "code",
    "id": "Iy1RjjHD8Oz_"
   },
   "outputs": [],
   "source": [
    "test['big_city']=test['big_city'].astype('category')\n",
    "test['cu_education_level']=test['cu_education_level'].astype('category')\n",
    "test['cu_empl_level']=test['cu_empl_level'].astype('category')"
   ]
  },
  {
   "cell_type": "markdown",
   "metadata": {
    "colab_type": "text",
    "id": "qmAeFRhykN2U"
   },
   "source": [
    "**ONE HOT ENCODING для тестовых данных**"
   ]
  },
  {
   "cell_type": "code",
   "execution_count": 47,
   "metadata": {
    "colab": {},
    "colab_type": "code",
    "id": "nuW-myKd8n60"
   },
   "outputs": [],
   "source": [
    "from sklearn.preprocessing import OneHotEncoder\n",
    "list_for_ohe=['big_city', 'cu_education_level']\n",
    "# Применим OHE к каждой колонке с категориальными данными\n",
    "OH_encoder = OneHotEncoder(handle_unknown='ignore', sparse=False)\n",
    "OH_cols_train = pd.DataFrame(OH_encoder.fit_transform(test[list_for_ohe]))\n",
    "\n",
    "# One-hot encoding удаляет индекс; восстановим его\n",
    "OH_cols_train.index = test.index\n",
    "\n",
    "# Удалим категориальные признаки, заменив их на перекодированные\n",
    "num_X = test.drop(list_for_ohe, axis=1)\n",
    "\n",
    "# Add one-hot encoded columns to numerical features\n",
    "OH_X = pd.concat([num_X, OH_cols_train], axis=1)\n",
    "OH_X=OH_X.rename(columns={0:'big_city_OTH', 1:'big_city_SPB', 2:'big_city_MLN', 3:'big_city_MSK',\n",
    "                          4: 'cu_education_level_3',5: 'cu_education_level_2',6: 'cu_education_level_4',7: 'cu_education_level_1', 8: 'cu_education_level_Unknown'})\n",
    "testdf=OH_X.drop(columns=['id_data'], axis=1)"
   ]
  },
  {
   "cell_type": "markdown",
   "metadata": {
    "colab_type": "text",
    "id": "jgrEHb5AkTP0"
   },
   "source": [
    "**MEAN TARGET для тестовых данных**"
   ]
  },
  {
   "cell_type": "code",
   "execution_count": 48,
   "metadata": {
    "colab": {},
    "colab_type": "code",
    "id": "iVsm5lBm9EI9"
   },
   "outputs": [],
   "source": [
    "test_cu_empl_lev_meantarget={}\n",
    "for level in test['cu_empl_level'].unique():\n",
    "  test_cu_empl_lev_meantarget[level]=testdf[testdf['cu_empl_level']==level]['gi_smooth_3m'].mean()\n",
    "testdf['cu_empl_level']=testdf['cu_empl_level'].map(lambda x: test_cu_empl_lev_meantarget[x])\n",
    "testdf=testdf.rename(columns={'cu_empl_level':'cu_empl_level_mean_target'})"
   ]
  },
  {
   "cell_type": "code",
   "execution_count": 49,
   "metadata": {
    "colab": {},
    "colab_type": "code",
    "id": "HXIwHbto9dtS"
   },
   "outputs": [],
   "source": [
    "test_cu_empl_area_meantarget={}\n",
    "for area in test['cu_empl_area'].unique():\n",
    "  test_cu_empl_area_meantarget[area]=testdf[testdf['cu_empl_area']==area]['gi_smooth_3m'].mean()"
   ]
  },
  {
   "cell_type": "code",
   "execution_count": 50,
   "metadata": {
    "colab": {},
    "colab_type": "code",
    "id": "4R3G5YGH9s1w"
   },
   "outputs": [],
   "source": [
    "testdf['cu_empl_area']=testdf['cu_empl_area'].map(lambda x: test_cu_empl_area_meantarget[x])\n",
    "testdf=testdf.rename(columns={'cu_empl_area':'cu_empl_area_mean_target'})\n",
    "testdf['cu_empl_level_mean_target']=testdf['cu_empl_level_mean_target'].astype('float64')"
   ]
  },
  {
   "cell_type": "markdown",
   "metadata": {
    "colab_type": "text",
    "id": "nSm8WKjB-2As"
   },
   "source": [
    "**ГОТОВИМ ТЕСТОВЫЕ ДАННЫЕ и ДЕЛАЕМ ПРЕДСКАЗАНИЕ**"
   ]
  },
  {
   "cell_type": "code",
   "execution_count": 54,
   "metadata": {
    "colab": {},
    "colab_type": "code",
    "id": "JJmagx0tK0xs"
   },
   "outputs": [],
   "source": [
    "testdata=testdf[features_select]\n",
    "filename = 'finalized_model.sav'\n",
    "loaded_model = joblib.load(filename)\n",
    "prediction = loaded_model.predict(testdata)\n",
    "prediction=pd.DataFrame(prediction)\n",
    "prediction['cif_id']=test['cif_id']\n",
    "prediction=prediction.rename(columns={0:'CLTV'})\n",
    "prediction['CLTV_2']=prediction['CLTV']\n",
    "prediction=prediction.drop(columns=['CLTV']).rename(columns={'CLTV_2':'CLTV'})\n",
    "prediction_final=prediction.groupby(by='cif_id').mean()\n",
    "prediction_final=prediction_final.reset_index()"
   ]
  },
  {
   "cell_type": "code",
   "execution_count": null,
   "metadata": {
    "colab": {},
    "colab_type": "code",
    "id": "ViLz0Mg1N7Dr"
   },
   "outputs": [],
   "source": [
    "prediction_final.to_csv('CUP_IT_predictions.csv', index=False)"
   ]
  }
 ],
 "metadata": {
  "colab": {
   "collapsed_sections": [],
   "name": "CUP_IT_2020.ipynb",
   "provenance": []
  },
  "kernelspec": {
   "display_name": "Python 3",
   "language": "python",
   "name": "python3"
  },
  "language_info": {
   "codemirror_mode": {
    "name": "ipython",
    "version": 3
   },
   "file_extension": ".py",
   "mimetype": "text/x-python",
   "name": "python",
   "nbconvert_exporter": "python",
   "pygments_lexer": "ipython3",
   "version": "3.7.3"
  },
  "toc": {
   "base_numbering": 1,
   "nav_menu": {},
   "number_sections": true,
   "sideBar": true,
   "skip_h1_title": false,
   "title_cell": "Table of Contents",
   "title_sidebar": "Contents",
   "toc_cell": false,
   "toc_position": {},
   "toc_section_display": true,
   "toc_window_display": false
  },
  "varInspector": {
   "cols": {
    "lenName": 16,
    "lenType": 16,
    "lenVar": 40
   },
   "kernels_config": {
    "python": {
     "delete_cmd_postfix": "",
     "delete_cmd_prefix": "del ",
     "library": "var_list.py",
     "varRefreshCmd": "print(var_dic_list())"
    },
    "r": {
     "delete_cmd_postfix": ") ",
     "delete_cmd_prefix": "rm(",
     "library": "var_list.r",
     "varRefreshCmd": "cat(var_dic_list()) "
    }
   },
   "types_to_exclude": [
    "module",
    "function",
    "builtin_function_or_method",
    "instance",
    "_Feature"
   ],
   "window_display": false
  }
 },
 "nbformat": 4,
 "nbformat_minor": 1
}
